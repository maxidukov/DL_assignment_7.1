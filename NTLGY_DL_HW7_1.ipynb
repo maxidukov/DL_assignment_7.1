{
 "cells": [
  {
   "cell_type": "markdown",
   "id": "eea6eac8",
   "metadata": {
    "id": "eea6eac8"
   },
   "source": [
    "# 1. Define function for generating sequences of digits that our networks will attempt to learn"
   ]
  },
  {
   "cell_type": "code",
   "execution_count": 1,
   "id": "33dbbb6d",
   "metadata": {
    "id": "33dbbb6d"
   },
   "outputs": [],
   "source": [
    "import random"
   ]
  },
  {
   "cell_type": "code",
   "execution_count": 2,
   "id": "83b8aa48",
   "metadata": {
    "id": "83b8aa48"
   },
   "outputs": [],
   "source": [
    "def generate_seq(X):\n",
    "    Y = []\n",
    "    for i in range(len(X)):\n",
    "        if i == 0:\n",
    "            y = X[0]\n",
    "        else:\n",
    "            y = X[i] + X[0]\n",
    "        if y >= 10:\n",
    "            y = y - 10\n",
    "        Y.append(y)\n",
    "    return Y"
   ]
  },
  {
   "cell_type": "code",
   "execution_count": 3,
   "id": "783bd622",
   "metadata": {
    "colab": {
     "base_uri": "https://localhost:8080/"
    },
    "id": "783bd622",
    "outputId": "4c9e9c8e-d02d-452c-ba0e-818ddf98d72e"
   },
   "outputs": [
    {
     "name": "stdout",
     "output_type": "stream",
     "text": [
      "Printing pseudorandom x's:\n",
      "[7, 8, 8, 2, 7, 4, 1, 8, 5, 4, 2, 1, 8, 8]\n",
      "[9, 1, 4, 7, 2, 0, 6, 5, 2, 7, 6, 7, 9, 3, 6, 6]\n",
      "[1, 7, 4, 5, 3, 5]\n",
      "[6, 2, 6, 7, 5]\n",
      "[7, 4, 8, 3, 8, 9, 9, 6]\n",
      "\n",
      "Printing y's:\n",
      "[7, 5, 5, 9, 4, 1, 8, 5, 2, 1, 9, 8, 5, 5]\n",
      "[9, 0, 3, 6, 1, 9, 5, 4, 1, 6, 5, 6, 8, 2, 5, 5]\n",
      "[1, 8, 5, 6, 4, 6]\n",
      "[6, 8, 2, 3, 1]\n",
      "[7, 1, 5, 0, 5, 6, 6, 3]\n"
     ]
    }
   ],
   "source": [
    "Xtests = []\n",
    "for i in range(5):\n",
    "    Xtests.append(random.choices(range(10),k=random.choice(range(5,20))))\n",
    "print(\"Printing pseudorandom x's:\")\n",
    "for Xtest in Xtests:\n",
    "    print(Xtest)\n",
    "print(\"\\nPrinting y's:\")\n",
    "for Xtest in Xtests:\n",
    "    print(generate_seq(Xtest))"
   ]
  },
  {
   "cell_type": "markdown",
   "id": "c81c2b00",
   "metadata": {
    "id": "c81c2b00"
   },
   "source": [
    "# 2. Do machine learning"
   ]
  },
  {
   "cell_type": "markdown",
   "id": "f7b72127",
   "metadata": {
    "id": "f7b72127"
   },
   "source": [
    "## 2.1 Make necessary imports"
   ]
  },
  {
   "cell_type": "code",
   "execution_count": 4,
   "id": "92311f81",
   "metadata": {
    "id": "92311f81"
   },
   "outputs": [],
   "source": [
    "#import random\n",
    "import torch\n",
    "import torch.nn as nn\n",
    "from torch.utils.data import Dataset, DataLoader, TensorDataset\n",
    "\n",
    "import time  # для оценки времени\n",
    "\n",
    "import gc\n",
    "\n",
    "from collections import defaultdict\n",
    "import matplotlib.pyplot as plt"
   ]
  },
  {
   "cell_type": "markdown",
   "id": "1751a7eb",
   "metadata": {
    "id": "1751a7eb"
   },
   "source": [
    "## 2.2 Prepare dataset with variable length sequences"
   ]
  },
  {
   "cell_type": "code",
   "execution_count": 5,
   "id": "46046447",
   "metadata": {
    "id": "46046447"
   },
   "outputs": [],
   "source": [
    "Xs = []\n",
    "for i in range(1001):\n",
    "#     Xs.append(random.choices(range(10),k=random.choice(range(5,20))))\n",
    "    Xs.append(random.choices(range(10),k=random.choice(range(5,20))))\n",
    "Ys = []\n",
    "for X in Xs:\n",
    "#     Ys.append(generate_seq(X))\n",
    "    Ys.append(generate_seq(X))"
   ]
  },
  {
   "cell_type": "markdown",
   "id": "f19d038f",
   "metadata": {},
   "source": [
    "### The following won't work:"
   ]
  },
  {
   "cell_type": "code",
   "execution_count": 6,
   "id": "fec19938",
   "metadata": {
    "colab": {
     "base_uri": "https://localhost:8080/",
     "height": 265
    },
    "id": "fec19938",
    "outputId": "43ee3f9d-4a3f-4b3b-ddbb-1a6ca683527e"
   },
   "outputs": [
    {
     "ename": "ValueError",
     "evalue": "expected sequence of length 19 at dim 1 (got 15)",
     "output_type": "error",
     "traceback": [
      "\u001b[0;31m---------------------------------------------------------------------------\u001b[0m",
      "\u001b[0;31mValueError\u001b[0m                                Traceback (most recent call last)",
      "Cell \u001b[0;32mIn[6], line 1\u001b[0m\n\u001b[0;32m----> 1\u001b[0m ds \u001b[38;5;241m=\u001b[39m TensorDataset(\u001b[43mtorch\u001b[49m\u001b[38;5;241;43m.\u001b[39;49m\u001b[43mas_tensor\u001b[49m\u001b[43m(\u001b[49m\u001b[43mXs\u001b[49m\u001b[43m)\u001b[49m,torch\u001b[38;5;241m.\u001b[39mas_tensor(Ys)) \u001b[38;5;66;03m#DOES NOT WORK IF LENTHS ARE DIFFERENT\u001b[39;00m\n",
      "\u001b[0;31mValueError\u001b[0m: expected sequence of length 19 at dim 1 (got 15)"
     ]
    }
   ],
   "source": [
    "ds = TensorDataset(torch.as_tensor(Xs),torch.as_tensor(Ys)) #DOES NOT WORK IF LENTHS ARE DIFFERENT"
   ]
  },
  {
   "cell_type": "code",
   "execution_count": 7,
   "id": "7c6e7818",
   "metadata": {
    "id": "7c6e7818"
   },
   "outputs": [],
   "source": [
    "class MyDataSet(Dataset):\n",
    "    def __init__(self,num,len_rng,fun):\n",
    "        self.num = num\n",
    "        self.Xs = []\n",
    "        for i in range(self.num):\n",
    "            self.Xs.append(random.choices(range(10),k=random.choice(range(len_rng[0],len_rng[1]))))\n",
    "        self.Ys = []\n",
    "        for X in self.Xs:\n",
    "            self.Ys.append(fun(X))\n",
    "    def __len__(self):\n",
    "        return self.num\n",
    "    def __getitem__(self,idx):\n",
    "        X = torch.tensor(self.Xs[idx], dtype = torch.long)\n",
    "        Y = torch.tensor(self.Ys[idx], dtype = torch.long)\n",
    "        return X,Y"
   ]
  },
  {
   "cell_type": "code",
   "execution_count": 8,
   "id": "347b9ad7",
   "metadata": {
    "id": "347b9ad7"
   },
   "outputs": [],
   "source": [
    "ds = MyDataSet(1000,(10,30),generate_seq)"
   ]
  },
  {
   "cell_type": "code",
   "execution_count": 9,
   "id": "77559e8d",
   "metadata": {
    "colab": {
     "base_uri": "https://localhost:8080/"
    },
    "id": "77559e8d",
    "outputId": "c6f8324f-3d0a-4d0b-c813-4da23c87a478"
   },
   "outputs": [
    {
     "data": {
      "text/plain": [
       "(tensor([2, 2, 1, 6, 3, 1, 4, 7, 8, 6, 7, 8, 6, 6, 5, 4, 7, 5, 9, 1, 7, 4, 2]),\n",
       " tensor([2, 4, 3, 8, 5, 3, 6, 9, 0, 8, 9, 0, 8, 8, 7, 6, 9, 7, 1, 3, 9, 6, 4]))"
      ]
     },
     "execution_count": 9,
     "metadata": {},
     "output_type": "execute_result"
    }
   ],
   "source": [
    "ds[0]"
   ]
  },
  {
   "cell_type": "code",
   "execution_count": 10,
   "id": "d9d95561",
   "metadata": {
    "id": "d9d95561"
   },
   "outputs": [],
   "source": [
    "train_data, test_data = torch.utils.data.random_split(ds, (len(ds)-int(len(ds)*0.3), int(len(ds)*0.3)))"
   ]
  },
  {
   "cell_type": "code",
   "execution_count": 11,
   "id": "38b60e2d",
   "metadata": {},
   "outputs": [],
   "source": [
    "def pad_and_pack(batch):\n",
    "    input_tensors = []\n",
    "    output_tensors = []\n",
    "    lengths = []\n",
    "    for x, y in batch:\n",
    "        input_tensors.append(x)\n",
    "        output_tensors.append(y)\n",
    "        lengths.append(x.shape[0]) #Assume shape is (T, *)\n",
    "    #4: create the padded version of the input and output\n",
    "    x_padded = torch.nn.utils.rnn.pad_sequence(input_tensors, batch_first=False)\n",
    "    y_padded = torch.nn.utils.rnn.pad_sequence(output_tensors, batch_first=False)\n",
    "    #5: create the packed version from the padded & lengths\n",
    "    x_packed = torch.nn.utils.rnn.pack_padded_sequence(x_padded, lengths, batch_first=False, enforce_sorted=False)\n",
    "    y_packed = torch.nn.utils.rnn.pack_padded_sequence(y_padded, lengths, batch_first=False, enforce_sorted=False)\n",
    "    return x_packed, y_packed\n",
    "#     return x_packed, output_tensors"
   ]
  },
  {
   "cell_type": "code",
   "execution_count": 12,
   "id": "30afc5d1",
   "metadata": {},
   "outputs": [],
   "source": [
    "train_loader = DataLoader(train_data, batch_size=10, shuffle=True, collate_fn=pad_and_pack)\n",
    "test_loader = DataLoader(test_data, batch_size=10, shuffle=False, collate_fn=pad_and_pack)"
   ]
  },
  {
   "cell_type": "markdown",
   "id": "a1ac3936",
   "metadata": {},
   "source": [
    "## 2.2 Define NN class, suitable for variablw length sequences"
   ]
  },
  {
   "cell_type": "code",
   "execution_count": 13,
   "id": "f9feb755",
   "metadata": {
    "id": "f9feb755"
   },
   "outputs": [],
   "source": [
    "class EmbeddingPackable(nn.Module):\n",
    "    def __init__(self, embd_layer):\n",
    "        super(EmbeddingPackable, self).__init__()\n",
    "        self.embd_layer = embd_layer\n",
    "\n",
    "    def forward(self, input):\n",
    "        if type(input) == torch.nn.utils.rnn.PackedSequence:\n",
    "            # We need to unpack the input,\n",
    "            sequences, lengths = torch.nn.utils.rnn.pad_packed_sequence(input.cpu(), batch_first=True)\n",
    "            #Embed it\n",
    "            sequences = self.embd_layer(sequences.to(input.data.device))\n",
    "            #And pack it into a new sequence\n",
    "            return torch.nn.utils.rnn.pack_padded_sequence(sequences, lengths.cpu(),\n",
    "                                                           batch_first=True, enforce_sorted=False)\n",
    "        else:#apply to normal data\n",
    "            return self.embd_layer(input)"
   ]
  },
  {
   "cell_type": "markdown",
   "id": "ccff77fb",
   "metadata": {},
   "source": [
    "### In out NN class we use the fact that in a packed sequence batches are concatenated, so we don't have to \n",
    "### flatten() in the batch dimension when calculating loss: our NN delivers \"flattened\" output already"
   ]
  },
  {
   "cell_type": "code",
   "execution_count": 15,
   "id": "be9ee8c0",
   "metadata": {},
   "outputs": [],
   "source": [
    "class NeuralNetwork(nn.Module):\n",
    "    def __init__(self, rnnClass, input_size, embedding_size, hidden_size, num_classes):\n",
    "        super().__init__()\n",
    "\n",
    "        self.hidden_size = hidden_size\n",
    "        self.embedding = EmbeddingPackable(nn.Embedding(input_size, embedding_size))\n",
    "        self.hidden = rnnClass(embedding_size, hidden_size, batch_first=True)\n",
    "        self.linoutput = nn.Linear(hidden_size, num_classes)\n",
    "\n",
    "    def forward(self, X):\n",
    "        out = self.embedding(X)\n",
    "        hids_all, hid_last = self.hidden(out)\n",
    "        if type(X) == torch.nn.utils.rnn.PackedSequence:\n",
    "            predictions = self.linoutput(hids_all.data)          \n",
    "        else:\n",
    "            predictions = self.linoutput(hids_all.view(-1,self.hidden_size))\n",
    "        return predictions"
   ]
  },
  {
   "cell_type": "code",
   "execution_count": 17,
   "id": "de97aa39",
   "metadata": {},
   "outputs": [],
   "source": [
    "input_size, embedding_size, hidden_size, num_classes = 10, 64, 128, 10"
   ]
  },
  {
   "cell_type": "code",
   "execution_count": 18,
   "id": "5686b2bf",
   "metadata": {},
   "outputs": [],
   "source": [
    "criterion = torch.nn.CrossEntropyLoss()  # типичный лосс многоклассовой классификации"
   ]
  },
  {
   "cell_type": "code",
   "execution_count": 19,
   "id": "29d9c81c",
   "metadata": {},
   "outputs": [
    {
     "data": {
      "text/plain": [
       "'cuda'"
      ]
     },
     "execution_count": 19,
     "metadata": {},
     "output_type": "execute_result"
    }
   ],
   "source": [
    "device = \"cuda\" if torch.cuda.is_available() else \"cpu\"\n",
    "device"
   ]
  },
  {
   "cell_type": "markdown",
   "id": "09b0d4c3",
   "metadata": {},
   "source": [
    "## 4.6 Define train function and a couple of additional functions"
   ]
  },
  {
   "cell_type": "code",
   "execution_count": 20,
   "id": "6593a984",
   "metadata": {},
   "outputs": [],
   "source": [
    "def weight_reset(m):\n",
    "    if \"reset_parameters\" in dir(m):\n",
    "        m.reset_parameters()\n",
    "    return"
   ]
  },
  {
   "cell_type": "code",
   "execution_count": 21,
   "id": "8b01613e",
   "metadata": {},
   "outputs": [],
   "source": [
    "def train(model, lossfu, optimizer, train_loader, test_loader, num_eps=10, device=device, tag=''):\n",
    "    history = defaultdict(lambda: defaultdict(list))\n",
    "    model.to(device)\n",
    "    model.apply(weight_reset)\n",
    "    start_all = time.time()\n",
    "    for ep in range(num_eps):\n",
    "        start_ep = time.time()\n",
    "        iter_passed = 0\n",
    "        train_loss, test_loss, train_acc, test_acc = 0.,0.,0.,0.\n",
    "        model.train()\n",
    "        for inputs, targets in train_loader:\n",
    "            inputs  =  inputs.to(device)\n",
    "            targets = targets.data.to(device)\n",
    "            optimizer.zero_grad()\n",
    "            answers = model(inputs)\n",
    "            loss = criterion(answers, targets)\n",
    "            train_loss += loss.item()\n",
    "            train_acc += (answers.argmax(dim=1) == targets).sum().item()/answers.shape[0]\n",
    "            loss.backward()\n",
    "            optimizer.step()\n",
    "            iter_passed += 1\n",
    "        \n",
    "            torch.cuda.empty_cache()\n",
    "            gc.collect()\n",
    "    \n",
    "        train_acc /= iter_passed\n",
    "        train_loss /= iter_passed\n",
    "        history['loss']['train'].append(train_loss)\n",
    "        history['acc']['train'].append(train_acc)\n",
    "        iter_passed = 0\n",
    "        \n",
    "        model.eval()\n",
    "        for inputs, targets in test_loader:\n",
    "            inputs  =  inputs.to(device)\n",
    "            targets = targets.data.to(device)\n",
    "#             optimizer.zero_grad()\n",
    "            answers = model(inputs)\n",
    "            loss = criterion(answers, targets)\n",
    "            test_loss += loss.item()\n",
    "            test_acc += (answers.argmax(dim=1) == targets).sum().item()/answers.shape[0]\n",
    "\n",
    "            iter_passed += 1\n",
    "        \n",
    "            torch.cuda.empty_cache()\n",
    "            gc.collect()\n",
    "    \n",
    "        test_acc /= iter_passed\n",
    "        test_loss /= iter_passed\n",
    "        history['loss']['val'].append(test_loss)\n",
    "        history['acc']['val'].append(test_acc)\n",
    "\n",
    "        print(\"Epoch {}. Time: {:.3f}, train loss: {:.3f}, train accuracy: {:.3f}, \"\n",
    "          \"test loss: {:.3f}, test accuracy: {:.3f},\".format(ep+1, time.time() - start_ep, \n",
    "                                                               train_loss, train_acc, test_loss, test_acc))\n",
    "    print(\"Time total: {:.3f}\".format(time.time() - start_all))\n",
    "    return {'dict': history, 'tag': tag}"
   ]
  },
  {
   "cell_type": "code",
   "execution_count": 22,
   "id": "d2ef24fb",
   "metadata": {},
   "outputs": [],
   "source": [
    "def plot_learning_curves(*args):\n",
    "    '''\n",
    "    Функция для вывода графиков лосса и метрики во время обучения.\n",
    "    '''\n",
    "    fig = plt.figure(figsize=(20, 7))\n",
    "\n",
    "    plt.subplot(1,2,1)\n",
    "    plt.title('Loss', fontsize=15)\n",
    "    if len(args)==1:\n",
    "        plt.plot(args[0]['dict']['loss']['train'], label='train')\n",
    "        plt.plot(args[0]['dict']['loss']['val'], label='val')\n",
    "    elif len(args) > 1:\n",
    "        #plt.suptitle(\"Сравнение \")\n",
    "        for hist in args:\n",
    "            plt.plot(hist['dict']['loss']['val'], label=hist['tag'])\n",
    "    plt.ylabel('Loss', fontsize=15)\n",
    "    plt.xlabel('epoch', fontsize=15)\n",
    "    plt.legend()\n",
    "\n",
    "    plt.subplot(1,2,2)\n",
    "    plt.title('Accuracy', fontsize=15)\n",
    "    if len(args)==1:\n",
    "        plt.plot(args[0]['dict']['acc']['train'], label='train')\n",
    "        plt.plot(args[0]['dict']['acc']['val'], label='val')\n",
    "    elif len(args) > 1:\n",
    "        for hist in args:\n",
    "            plt.plot(hist['dict']['acc']['val'], label=hist['tag'])\n",
    "    plt.ylabel('Accuracy', fontsize=15)\n",
    "    plt.xlabel('epoch', fontsize=15)\n",
    "    plt.legend()\n",
    "    plt.show()"
   ]
  },
  {
   "cell_type": "markdown",
   "id": "e333a4a9",
   "metadata": {},
   "source": [
    "## 4.7 Train model"
   ]
  },
  {
   "cell_type": "code",
   "execution_count": 24,
   "id": "ae8b1348",
   "metadata": {},
   "outputs": [],
   "source": [
    "model = NeuralNetwork(nn.RNN, 10, 64, 128, 10)\n",
    "optimizer = torch.optim.Adam(model.parameters(), lr=.001)"
   ]
  },
  {
   "cell_type": "code",
   "execution_count": 25,
   "id": "698fb97b",
   "metadata": {
    "scrolled": false
   },
   "outputs": [
    {
     "name": "stdout",
     "output_type": "stream",
     "text": [
      "Epoch 1. Time: 10.764, train loss: 2.318, train accuracy: 0.120, test loss: 2.305, test accuracy: 0.145,\n",
      "Epoch 2. Time: 10.729, train loss: 2.297, train accuracy: 0.139, test loss: 2.303, test accuracy: 0.152,\n",
      "Epoch 3. Time: 10.714, train loss: 2.292, train accuracy: 0.147, test loss: 2.299, test accuracy: 0.152,\n",
      "Epoch 4. Time: 10.989, train loss: 2.281, train accuracy: 0.157, test loss: 2.270, test accuracy: 0.182,\n",
      "Epoch 5. Time: 10.549, train loss: 2.252, train accuracy: 0.191, test loss: 2.244, test accuracy: 0.190,\n",
      "Epoch 6. Time: 10.813, train loss: 2.195, train accuracy: 0.211, test loss: 2.182, test accuracy: 0.200,\n",
      "Epoch 7. Time: 10.542, train loss: 2.148, train accuracy: 0.215, test loss: 2.080, test accuracy: 0.247,\n",
      "Epoch 8. Time: 10.953, train loss: 2.060, train accuracy: 0.230, test loss: 2.010, test accuracy: 0.244,\n",
      "Epoch 9. Time: 10.562, train loss: 1.955, train accuracy: 0.236, test loss: 1.914, test accuracy: 0.246,\n",
      "Epoch 10. Time: 10.486, train loss: 1.867, train accuracy: 0.248, test loss: 1.861, test accuracy: 0.245,\n",
      "Epoch 11. Time: 10.768, train loss: 1.816, train accuracy: 0.272, test loss: 1.849, test accuracy: 0.241,\n",
      "Epoch 12. Time: 10.484, train loss: 1.800, train accuracy: 0.263, test loss: 1.803, test accuracy: 0.252,\n",
      "Epoch 13. Time: 16.076, train loss: 1.762, train accuracy: 0.286, test loss: 2.018, test accuracy: 0.220,\n",
      "Epoch 14. Time: 19.910, train loss: 1.780, train accuracy: 0.282, test loss: 1.793, test accuracy: 0.251,\n",
      "Epoch 15. Time: 20.436, train loss: 1.741, train accuracy: 0.295, test loss: 1.762, test accuracy: 0.261,\n",
      "Epoch 16. Time: 20.905, train loss: 1.721, train accuracy: 0.296, test loss: 1.758, test accuracy: 0.262,\n",
      "Epoch 17. Time: 21.094, train loss: 1.703, train accuracy: 0.310, test loss: 1.742, test accuracy: 0.266,\n",
      "Epoch 18. Time: 21.537, train loss: 1.693, train accuracy: 0.316, test loss: 1.722, test accuracy: 0.284,\n",
      "Epoch 19. Time: 22.594, train loss: 1.672, train accuracy: 0.322, test loss: 1.706, test accuracy: 0.308,\n",
      "Epoch 20. Time: 23.515, train loss: 1.655, train accuracy: 0.340, test loss: 1.690, test accuracy: 0.322,\n",
      "Time total: 294.422\n"
     ]
    }
   ],
   "source": [
    "rnn_info = train(model,criterion,optimizer,train_loader,test_loader,tag=\"RNN\",num_eps=20)"
   ]
  },
  {
   "cell_type": "code",
   "execution_count": 27,
   "id": "ee1f7436",
   "metadata": {},
   "outputs": [
    {
     "name": "stdout",
     "output_type": "stream",
     "text": [
      "tensor([2, 2, 1, 6, 3, 1, 4, 7, 8, 6, 7, 8, 6, 6, 5, 4, 7, 5, 9, 1, 7, 4, 2])\n",
      "tensor([2, 4, 3, 8, 5, 3, 6, 9, 0, 8, 9, 0, 8, 8, 7, 6, 9, 7, 1, 3, 9, 6, 4])\n",
      "tensor([2, 9, 8, 8, 8, 8, 8, 2, 3, 1, 8, 3, 1, 8, 9, 9, 2, 9, 4, 6, 2, 8, 6])\n",
      "Accuracy is 13.043478012084961%\n"
     ]
    }
   ],
   "source": [
    "print(ds[0][0])\n",
    "print(ds[0][1])\n",
    "with torch.no_grad():\n",
    "    model.cpu()\n",
    "    print(model(ds[:1][0]).argmax(1).squeeze())\n",
    "    print(f\"Accuracy is {(model(ds[:1][0]).argmax(1) == ds[0][1]).sum()/len(ds[0][1])*100}%\")"
   ]
  },
  {
   "cell_type": "code",
   "execution_count": 28,
   "id": "beb14a88",
   "metadata": {},
   "outputs": [],
   "source": [
    "model = NeuralNetwork(nn.GRU, 10, 64, 128, 10)\n",
    "optimizer = torch.optim.Adam(model.parameters(), lr=.001)"
   ]
  },
  {
   "cell_type": "code",
   "execution_count": 29,
   "id": "1799387c",
   "metadata": {},
   "outputs": [
    {
     "name": "stdout",
     "output_type": "stream",
     "text": [
      "Epoch 1. Time: 21.577, train loss: 2.308, train accuracy: 0.122, test loss: 2.296, test accuracy: 0.160,\n",
      "Epoch 2. Time: 21.129, train loss: 2.296, train accuracy: 0.142, test loss: 2.291, test accuracy: 0.164,\n",
      "Epoch 3. Time: 21.326, train loss: 2.281, train accuracy: 0.154, test loss: 2.281, test accuracy: 0.169,\n",
      "Epoch 4. Time: 21.334, train loss: 2.255, train accuracy: 0.178, test loss: 2.226, test accuracy: 0.196,\n",
      "Epoch 5. Time: 20.781, train loss: 2.109, train accuracy: 0.262, test loss: 1.978, test accuracy: 0.351,\n",
      "Epoch 6. Time: 21.252, train loss: 1.653, train accuracy: 0.538, test loss: 1.309, test accuracy: 0.706,\n",
      "Epoch 7. Time: 19.640, train loss: 0.893, train accuracy: 0.874, test loss: 0.572, test accuracy: 0.953,\n",
      "Epoch 8. Time: 20.850, train loss: 0.355, train accuracy: 0.992, test loss: 0.234, test accuracy: 0.999,\n",
      "Epoch 9. Time: 20.820, train loss: 0.154, train accuracy: 1.000, test loss: 0.116, test accuracy: 1.000,\n",
      "Epoch 10. Time: 20.857, train loss: 0.085, train accuracy: 1.000, test loss: 0.072, test accuracy: 1.000,\n",
      "Epoch 11. Time: 21.159, train loss: 0.055, train accuracy: 1.000, test loss: 0.049, test accuracy: 1.000,\n",
      "Epoch 12. Time: 20.789, train loss: 0.040, train accuracy: 1.000, test loss: 0.037, test accuracy: 1.000,\n",
      "Epoch 13. Time: 21.424, train loss: 0.030, train accuracy: 1.000, test loss: 0.029, test accuracy: 1.000,\n",
      "Epoch 14. Time: 22.351, train loss: 0.024, train accuracy: 1.000, test loss: 0.023, test accuracy: 1.000,\n",
      "Epoch 15. Time: 22.317, train loss: 0.019, train accuracy: 1.000, test loss: 0.019, test accuracy: 1.000,\n",
      "Epoch 16. Time: 22.462, train loss: 0.016, train accuracy: 1.000, test loss: 0.016, test accuracy: 1.000,\n",
      "Epoch 17. Time: 22.268, train loss: 0.014, train accuracy: 1.000, test loss: 0.014, test accuracy: 1.000,\n",
      "Epoch 18. Time: 21.269, train loss: 0.012, train accuracy: 1.000, test loss: 0.012, test accuracy: 1.000,\n",
      "Epoch 19. Time: 21.420, train loss: 0.010, train accuracy: 1.000, test loss: 0.010, test accuracy: 1.000,\n",
      "Epoch 20. Time: 23.922, train loss: 0.009, train accuracy: 1.000, test loss: 0.009, test accuracy: 1.000,\n",
      "Time total: 428.951\n"
     ]
    }
   ],
   "source": [
    "gru_info = train(model,criterion,optimizer,train_loader,test_loader,tag=\"GRU\",num_eps=20)"
   ]
  },
  {
   "cell_type": "code",
   "execution_count": 30,
   "id": "4d037f2b",
   "metadata": {},
   "outputs": [
    {
     "name": "stdout",
     "output_type": "stream",
     "text": [
      "tensor([2, 2, 1, 6, 3, 1, 4, 7, 8, 6, 7, 8, 6, 6, 5, 4, 7, 5, 9, 1, 7, 4, 2])\n",
      "tensor([2, 4, 3, 8, 5, 3, 6, 9, 0, 8, 9, 0, 8, 8, 7, 6, 9, 7, 1, 3, 9, 6, 4])\n",
      "tensor([2, 4, 3, 8, 5, 3, 6, 9, 0, 8, 9, 0, 8, 8, 7, 6, 9, 7, 1, 3, 9, 6, 4])\n",
      "Accuracy is 100.0%\n"
     ]
    }
   ],
   "source": [
    "print(ds[0][0])\n",
    "print(ds[0][1])\n",
    "with torch.no_grad():\n",
    "    model.cpu()\n",
    "    print(model(ds[:1][0]).argmax(1).squeeze())\n",
    "    print(f\"Accuracy is {(model(ds[:1][0]).argmax(1) == ds[0][1]).sum()/len(ds[0][1])*100}%\")"
   ]
  },
  {
   "cell_type": "code",
   "execution_count": 31,
   "id": "7aee2beb",
   "metadata": {},
   "outputs": [],
   "source": [
    "model = NeuralNetwork(nn.LSTM, 10, 64, 128, 10)\n",
    "optimizer = torch.optim.Adam(model.parameters(), lr=.001)"
   ]
  },
  {
   "cell_type": "code",
   "execution_count": 35,
   "id": "82c10c3d",
   "metadata": {},
   "outputs": [
    {
     "name": "stdout",
     "output_type": "stream",
     "text": [
      "Epoch 1. Time: 10.449, train loss: 2.305, train accuracy: 0.107, test loss: 2.301, test accuracy: 0.128,\n",
      "Epoch 2. Time: 10.441, train loss: 2.296, train accuracy: 0.129, test loss: 2.298, test accuracy: 0.151,\n",
      "Epoch 3. Time: 10.478, train loss: 2.292, train accuracy: 0.138, test loss: 2.296, test accuracy: 0.156,\n",
      "Epoch 4. Time: 10.464, train loss: 2.289, train accuracy: 0.141, test loss: 2.293, test accuracy: 0.160,\n",
      "Epoch 5. Time: 10.457, train loss: 2.284, train accuracy: 0.149, test loss: 2.290, test accuracy: 0.161,\n",
      "Epoch 6. Time: 10.445, train loss: 2.270, train accuracy: 0.163, test loss: 2.272, test accuracy: 0.178,\n",
      "Epoch 7. Time: 10.437, train loss: 2.216, train accuracy: 0.207, test loss: 2.133, test accuracy: 0.259,\n",
      "Epoch 8. Time: 10.398, train loss: 1.949, train accuracy: 0.337, test loss: 1.685, test accuracy: 0.451,\n",
      "Epoch 9. Time: 10.360, train loss: 1.383, train accuracy: 0.492, test loss: 1.231, test accuracy: 0.497,\n",
      "Epoch 10. Time: 10.542, train loss: 1.023, train accuracy: 0.576, test loss: 0.921, test accuracy: 0.612,\n",
      "Epoch 11. Time: 10.431, train loss: 0.760, train accuracy: 0.699, test loss: 0.700, test accuracy: 0.731,\n",
      "Epoch 12. Time: 10.419, train loss: 0.507, train accuracy: 0.860, test loss: 0.412, test accuracy: 0.896,\n",
      "Epoch 13. Time: 10.426, train loss: 0.315, train accuracy: 0.921, test loss: 0.277, test accuracy: 0.924,\n",
      "Epoch 14. Time: 10.376, train loss: 0.224, train accuracy: 0.938, test loss: 0.203, test accuracy: 0.957,\n",
      "Epoch 15. Time: 10.485, train loss: 0.144, train accuracy: 0.987, test loss: 0.111, test accuracy: 0.998,\n",
      "Epoch 16. Time: 10.438, train loss: 0.080, train accuracy: 1.000, test loss: 0.070, test accuracy: 1.000,\n",
      "Epoch 17. Time: 10.434, train loss: 0.054, train accuracy: 1.000, test loss: 0.050, test accuracy: 1.000,\n",
      "Epoch 18. Time: 10.592, train loss: 0.040, train accuracy: 1.000, test loss: 0.038, test accuracy: 1.000,\n",
      "Epoch 19. Time: 10.450, train loss: 0.031, train accuracy: 1.000, test loss: 0.031, test accuracy: 1.000,\n",
      "Epoch 20. Time: 10.423, train loss: 0.025, train accuracy: 1.000, test loss: 0.025, test accuracy: 1.000,\n",
      "Time total: 208.948\n"
     ]
    }
   ],
   "source": [
    "lstm_info = train(model,criterion,optimizer,train_loader,test_loader,tag=\"LSTM\",num_eps=20)"
   ]
  },
  {
   "cell_type": "code",
   "execution_count": 36,
   "id": "59c28205",
   "metadata": {},
   "outputs": [
    {
     "name": "stdout",
     "output_type": "stream",
     "text": [
      "tensor([2, 2, 1, 6, 3, 1, 4, 7, 8, 6, 7, 8, 6, 6, 5, 4, 7, 5, 9, 1, 7, 4, 2])\n",
      "tensor([2, 4, 3, 8, 5, 3, 6, 9, 0, 8, 9, 0, 8, 8, 7, 6, 9, 7, 1, 3, 9, 6, 4])\n",
      "tensor([2, 4, 3, 8, 5, 3, 6, 9, 0, 8, 9, 0, 8, 8, 7, 6, 9, 7, 1, 3, 9, 6, 4])\n",
      "Accuracy is 100.0%\n"
     ]
    }
   ],
   "source": [
    "print(ds[0][0])\n",
    "print(ds[0][1])\n",
    "with torch.no_grad():\n",
    "    model.cpu()\n",
    "    print(model(ds[:1][0]).argmax(1).squeeze())\n",
    "    print(f\"Accuracy is {(model(ds[:1][0]).argmax(1) == ds[0][1]).sum()/len(ds[0][1])*100}%\")"
   ]
  },
  {
   "cell_type": "code",
   "execution_count": 37,
   "id": "0ea01daf",
   "metadata": {},
   "outputs": [
    {
     "data": {
      "image/png": "[encoded data removed]",
      "text/plain": [
       "<Figure size 2000x700 with 2 Axes>"
      ]
     },
     "metadata": {},
     "output_type": "display_data"
    }
   ],
   "source": [
    "plot_learning_curves(rnn_info, gru_info, lstm_info)"
   ]
  },
  {
   "cell_type": "code",
   "execution_count": null,
   "id": "fc2f9aa5",
   "metadata": {},
   "outputs": [],
   "source": []
  }
 ],
 "metadata": {
  "colab": {
   "provenance": []
  },
  "kernelspec": {
   "display_name": "Python 3 (ipykernel)",
   "language": "python",
   "name": "python3"
  },
  "language_info": {
   "codemirror_mode": {
    "name": "ipython",
    "version": 3
   },
   "file_extension": ".py",
   "mimetype": "text/x-python",
   "name": "python",
   "nbconvert_exporter": "python",
   "pygments_lexer": "ipython3",
   "version": "3.11.6"
  }
 },
 "nbformat": 4,
 "nbformat_minor": 5
}
